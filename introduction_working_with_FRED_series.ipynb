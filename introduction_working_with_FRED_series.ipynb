{
 "cells": [
  {
   "cell_type": "markdown",
   "metadata": {},
   "source": [
    "[Rich Ryan](https://richryan.github.io/) | richryan@umich.edu | 2 January 2018\n",
    "\n",
    "# A just-for-fun introduction to **R**\n",
    "\n",
    "Professor House discussed several key time series in macroeconomics on the first day of class.\n",
    "This handout discusses how to access and manipulate those series in **R**.\n",
    "\n",
    "It is important to know that doing **R** in ECON 402 is just for fun and has nothing to do officially with the class.\n",
    "That said, however, data visualization is increasingly part of everyday life:\n",
    "The NY Times increasingly features data visualizations on its website;\n",
    "\"advanced metrics\" is taking over sports;\n",
    "the [Nightly Business Report](http://nbr.com/) on Detroit Public TV always features charts.\n",
    "\n",
    "Or let me put it a different way:\n",
    "I was a GSI for ECON 401 and \n",
    "I would be _shocked_ if the differences between Marshalian and Hicksian demand came up in a job interview;\n",
    "on the other hand,\n",
    "I would wager that most entry-level jobs in economics deal directly with data manipulation.\n",
    "\n",
    "I was actually in charge of the data work for Professor House's [handbook chapter on macroeconomics](https://www.sciencedirect.com/science/article/pii/S157400481630012X).\n",
    "Getting asked to write a handbook chapter is a huge, huge honor&mdash;for the author, not the person doing the data work&mdash;and when I would tell Professor House that I was \"assistant professor\" he would yell back: \n",
    "\"NO!!!! You are _assistant to_ the professor.\"\n",
    "\n",
    "# Getting **R** up and running\n",
    "\n",
    "An introduction to **R** is beyond the scope of this handout.\n",
    "On the off chance that someone is super interested in **R**, \n",
    "just let me know and we'll get you going.\n",
    "\n",
    "I had no problem installing a working copy of **R** from the website for The **R** Project for Statistical Computing,\n",
    "which you can navigate to [here](https://www.r-project.org/).\n",
    "Perhaps the easiest way to interact with **R** code is through **R**Studio.\n",
    "You can get a copy of **R**Studio [here](https://www.rstudio.com/).\n",
    "Again, I had no problems installing **R** and using **R**Studio.\n",
    "\n",
    "Once in **R**Studio you can use the \"Session\" dropdown menu to set the working directory,\n",
    "which should be where you save the code that you write to go along with this handout.\n",
    "More on this below."
   ]
  },
  {
   "cell_type": "code",
   "execution_count": 10,
   "metadata": {
    "collapsed": true
   },
   "outputs": [],
   "source": [
    "rm(list = ls())\n",
    "library(tidyverse)\n",
    "library(tidyquant)"
   ]
  },
  {
   "cell_type": "code",
   "execution_count": 11,
   "metadata": {},
   "outputs": [
    {
     "data": {
      "text/html": [
       "<table>\n",
       "<thead><tr><th scope=col>symbol</th><th scope=col>date</th><th scope=col>price</th></tr></thead>\n",
       "<tbody>\n",
       "\t<tr><td>UNRATE    </td><td>1948-01-01</td><td>3.4       </td></tr>\n",
       "\t<tr><td>UNRATE    </td><td>1948-02-01</td><td>3.8       </td></tr>\n",
       "\t<tr><td>UNRATE    </td><td>1948-03-01</td><td>4.0       </td></tr>\n",
       "\t<tr><td>UNRATE    </td><td>1948-04-01</td><td>3.9       </td></tr>\n",
       "\t<tr><td>UNRATE    </td><td>1948-05-01</td><td>3.5       </td></tr>\n",
       "\t<tr><td>UNRATE    </td><td>1948-06-01</td><td>3.6       </td></tr>\n",
       "</tbody>\n",
       "</table>\n"
      ],
      "text/latex": [
       "\\begin{tabular}{r|lll}\n",
       " symbol & date & price\\\\\n",
       "\\hline\n",
       "\t UNRATE     & 1948-01-01 & 3.4       \\\\\n",
       "\t UNRATE     & 1948-02-01 & 3.8       \\\\\n",
       "\t UNRATE     & 1948-03-01 & 4.0       \\\\\n",
       "\t UNRATE     & 1948-04-01 & 3.9       \\\\\n",
       "\t UNRATE     & 1948-05-01 & 3.5       \\\\\n",
       "\t UNRATE     & 1948-06-01 & 3.6       \\\\\n",
       "\\end{tabular}\n"
      ],
      "text/markdown": [
       "\n",
       "symbol | date | price | \n",
       "|---|---|---|---|---|---|\n",
       "| UNRATE     | 1948-01-01 | 3.4        | \n",
       "| UNRATE     | 1948-02-01 | 3.8        | \n",
       "| UNRATE     | 1948-03-01 | 4.0        | \n",
       "| UNRATE     | 1948-04-01 | 3.9        | \n",
       "| UNRATE     | 1948-05-01 | 3.5        | \n",
       "| UNRATE     | 1948-06-01 | 3.6        | \n",
       "\n",
       "\n"
      ],
      "text/plain": [
       "  symbol date       price\n",
       "1 UNRATE 1948-01-01 3.4  \n",
       "2 UNRATE 1948-02-01 3.8  \n",
       "3 UNRATE 1948-03-01 4.0  \n",
       "4 UNRATE 1948-04-01 3.9  \n",
       "5 UNRATE 1948-05-01 3.5  \n",
       "6 UNRATE 1948-06-01 3.6  "
      ]
     },
     "metadata": {},
     "output_type": "display_data"
    },
    {
     "data": {
      "text/html": [
       "<table>\n",
       "<thead><tr><th scope=col>symbol</th><th scope=col>date</th><th scope=col>price</th></tr></thead>\n",
       "<tbody>\n",
       "\t<tr><td>UNEMPLOY  </td><td>2017-06-01</td><td>6977      </td></tr>\n",
       "\t<tr><td>UNEMPLOY  </td><td>2017-07-01</td><td>6981      </td></tr>\n",
       "\t<tr><td>UNEMPLOY  </td><td>2017-08-01</td><td>7132      </td></tr>\n",
       "\t<tr><td>UNEMPLOY  </td><td>2017-09-01</td><td>6801      </td></tr>\n",
       "\t<tr><td>UNEMPLOY  </td><td>2017-10-01</td><td>6520      </td></tr>\n",
       "\t<tr><td>UNEMPLOY  </td><td>2017-11-01</td><td>6610      </td></tr>\n",
       "</tbody>\n",
       "</table>\n"
      ],
      "text/latex": [
       "\\begin{tabular}{r|lll}\n",
       " symbol & date & price\\\\\n",
       "\\hline\n",
       "\t UNEMPLOY   & 2017-06-01 & 6977      \\\\\n",
       "\t UNEMPLOY   & 2017-07-01 & 6981      \\\\\n",
       "\t UNEMPLOY   & 2017-08-01 & 7132      \\\\\n",
       "\t UNEMPLOY   & 2017-09-01 & 6801      \\\\\n",
       "\t UNEMPLOY   & 2017-10-01 & 6520      \\\\\n",
       "\t UNEMPLOY   & 2017-11-01 & 6610      \\\\\n",
       "\\end{tabular}\n"
      ],
      "text/markdown": [
       "\n",
       "symbol | date | price | \n",
       "|---|---|---|---|---|---|\n",
       "| UNEMPLOY   | 2017-06-01 | 6977       | \n",
       "| UNEMPLOY   | 2017-07-01 | 6981       | \n",
       "| UNEMPLOY   | 2017-08-01 | 7132       | \n",
       "| UNEMPLOY   | 2017-09-01 | 6801       | \n",
       "| UNEMPLOY   | 2017-10-01 | 6520       | \n",
       "| UNEMPLOY   | 2017-11-01 | 6610       | \n",
       "\n",
       "\n"
      ],
      "text/plain": [
       "  symbol   date       price\n",
       "1 UNEMPLOY 2017-06-01 6977 \n",
       "2 UNEMPLOY 2017-07-01 6981 \n",
       "3 UNEMPLOY 2017-08-01 7132 \n",
       "4 UNEMPLOY 2017-09-01 6801 \n",
       "5 UNEMPLOY 2017-10-01 6520 \n",
       "6 UNEMPLOY 2017-11-01 6610 "
      ]
     },
     "metadata": {},
     "output_type": "display_data"
    }
   ],
   "source": [
    "ur <- tq_get(c(\"UNRATE\", \"UNEMPLOY\"), get = \"economic.data\", from = \"1948-01-01\")\n",
    "head(ur)\n",
    "tail(ur)"
   ]
  },
  {
   "cell_type": "code",
   "execution_count": 12,
   "metadata": {},
   "outputs": [
    {
     "data": {},
     "metadata": {},
     "output_type": "display_data"
    },
    {
     "data": {
      "image/png": "[encoded data removed]",
      "text/plain": [
       "plot without title"
      ]
     },
     "metadata": {},
     "output_type": "display_data"
    }
   ],
   "source": [
    "ur <- ur  %>% \n",
    "filter(symbol == \"UNRATE\")\n",
    "\n",
    "ggplot(data = ur) + geom_line(aes(x = date, y = price), color = \"blue\", size = 1.1) + theme_tq()"
   ]
  },
  {
   "attachments": {},
   "cell_type": "markdown",
   "metadata": {},
   "source": [
    "![stack_overflow.svg](stack_overflow.svg)"
   ]
  },
  {
   "cell_type": "code",
   "execution_count": null,
   "metadata": {
    "collapsed": true
   },
   "outputs": [],
   "source": []
  }
 ],
 "metadata": {
  "kernelspec": {
   "display_name": "R",
   "language": "R",
   "name": "ir"
  },
  "language_info": {
   "codemirror_mode": "r",
   "file_extension": ".r",
   "mimetype": "text/x-r-source",
   "name": "R",
   "pygments_lexer": "r",
   "version": "3.4.0"
  }
 },
 "nbformat": 4,
 "nbformat_minor": 2
}
